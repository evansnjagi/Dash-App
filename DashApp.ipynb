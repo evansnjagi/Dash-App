{
 "cells": [
  {
   "cell_type": "markdown",
   "id": "73a1fa3e-a938-472c-ae20-90c104c8adfe",
   "metadata": {},
   "source": [
    "We will create an interactive dash web app that will help the user get a predicted price in real time."
   ]
  },
  {
   "cell_type": "code",
   "execution_count": 1,
   "id": "63f6b2ef-0347-407c-bcf9-18df39450043",
   "metadata": {
    "editable": true,
    "execution": {
     "iopub.execute_input": "2025-06-23T10:02:38.168309Z",
     "iopub.status.busy": "2025-06-23T10:02:38.167763Z",
     "iopub.status.idle": "2025-06-23T10:04:26.682512Z",
     "shell.execute_reply": "2025-06-23T10:04:26.678580Z",
     "shell.execute_reply.started": "2025-06-23T10:02:38.168272Z"
    },
    "slideshow": {
     "slide_type": ""
    },
    "tags": []
   },
   "outputs": [
    {
     "name": "stdout",
     "output_type": "stream",
     "text": [
      "Dash app running on http://127.0.0.1:8050/\n",
      "[learning_curve] Training set sizes: [ 93 304 514 725 936]\n"
     ]
    },
    {
     "name": "stderr",
     "output_type": "stream",
     "text": [
      "[Parallel(n_jobs=-1)]: Using backend LokyBackend with 4 concurrent workers.\n"
     ]
    }
   ],
   "source": [
    "from Presentation import app \n",
    "\n",
    "app.run(jupyter_mode=\"external\")\n"
   ]
  },
  {
   "cell_type": "code",
   "execution_count": null,
   "id": "b8ed238f-9fa5-427b-a1e4-9886f9acd03a",
   "metadata": {},
   "outputs": [],
   "source": [
    "# getting the data\n",
    "import pandas as pd \n",
    "from Service import GetData"
   ]
  },
  {
   "cell_type": "code",
   "execution_count": null,
   "id": "a06aef81-9769-4128-8510-d9be393acae9",
   "metadata": {},
   "outputs": [],
   "source": [
    "# raw data \n",
    "df = GetData().raw_data()\n",
    "print(df.shape)\n",
    "df.head()"
   ]
  },
  {
   "cell_type": "code",
   "execution_count": null,
   "id": "829ae6b1-b4f0-4da7-a0b3-513d8d62069d",
   "metadata": {},
   "outputs": [],
   "source": [
    "sp = GetData().get_sale_price()\n",
    "print(type(sp))\n",
    "print(sp.shape)\n",
    "sp.head()"
   ]
  },
  {
   "cell_type": "code",
   "execution_count": null,
   "id": "be38790b-4b89-4ee6-8d59-3c4b33e4900f",
   "metadata": {},
   "outputs": [],
   "source": [
    "import plotly.express as px \n",
    "from Business import GraphBuilder"
   ]
  },
  {
   "cell_type": "code",
   "execution_count": null,
   "id": "7416a271-0e99-4bac-a8e0-9fe5660fa6f3",
   "metadata": {},
   "outputs": [],
   "source": [
    "fig = GraphBuilder().house_price_hist() \n",
    "fig.show()"
   ]
  },
  {
   "cell_type": "code",
   "execution_count": null,
   "id": "c66dd4b1-6a6b-434e-a648-3e1ccaac5595",
   "metadata": {},
   "outputs": [],
   "source": [
    "from Service import GetData\n",
    "# get the pca data set \n",
    "pca_data = GetData(X_train=df).get_pca_data() \n",
    "print(type(pca_data)) \n",
    "print(len(pca_data))\n",
    "pca_data[:4]"
   ]
  },
  {
   "cell_type": "code",
   "execution_count": null,
   "id": "bed9c299-42d4-42af-967b-f641ae6bd02c",
   "metadata": {},
   "outputs": [],
   "source": [
    "fig = GraphBuilder().pca_plot()\n",
    "fig.show()"
   ]
  },
  {
   "cell_type": "code",
   "execution_count": null,
   "id": "e6aea24e-5b62-4a8e-94df-ece0dbad6184",
   "metadata": {},
   "outputs": [],
   "source": [
    "# check training and service layer connection(basic cleaning)\n",
    "from Service import GetData\n",
    "\n",
    "df_basic = GetData().basic_data_train()\n",
    "print(type(df_basic))\n",
    "print(df_basic.shape)\n",
    "df_basic.head()"
   ]
  },
  {
   "cell_type": "code",
   "execution_count": null,
   "id": "00ed685e-7f0a-4ad3-b633-e14f98adbb71",
   "metadata": {},
   "outputs": [],
   "source": [
    "from Service import GetData\n",
    "\n",
    "df_selected = GetData().training_data()\n",
    "print(type(df_selected))\n",
    "print(df_selected.shape)\n",
    "df_selected.head()"
   ]
  },
  {
   "cell_type": "code",
   "execution_count": null,
   "id": "f12f24a7-f130-4bec-a660-613ec8fe47ea",
   "metadata": {},
   "outputs": [],
   "source": [
    "from Service import GetData\n",
    "\n",
    "df_engineered = GetData().engineered_data_train()\n",
    "print(type(df_engineered))\n",
    "print(df_engineered.shape)\n",
    "df_engineered.head()"
   ]
  },
  {
   "cell_type": "code",
   "execution_count": null,
   "id": "4b25d6b4-81cd-452b-8ae9-4c5172434fbd",
   "metadata": {},
   "outputs": [],
   "source": [
    "from Service import GetData\n",
    "\n",
    "df_removed_outliers = GetData().removed_outliers_train()\n",
    "print(type(df_removed_outliers))\n",
    "print(df_removed_outliers.shape)\n",
    "df_removed_outliers.head()"
   ]
  },
  {
   "cell_type": "code",
   "execution_count": null,
   "id": "a0c69720-740a-4bcf-b803-7e17ded5cea7",
   "metadata": {},
   "outputs": [],
   "source": [
    "# training linear regression model check \n",
    "from Business import ModelBuilder\n",
    "\n",
    "model, X, y = ModelBuilder().linear_model()\n",
    "model"
   ]
  },
  {
   "cell_type": "code",
   "execution_count": null,
   "id": "a8f85446-a57f-429e-9101-4771772c8b29",
   "metadata": {},
   "outputs": [],
   "source": [
    "model.predict(df_removed_outliers.drop(columns=\"SalePrice\"))"
   ]
  },
  {
   "cell_type": "code",
   "execution_count": null,
   "id": "30df3d1c-5d9d-4b91-a9d8-4d0b8e2ce7ae",
   "metadata": {},
   "outputs": [],
   "source": [
    "from Training import LearningCurve\n",
    "fig = LearningCurve(estimator=model, \n",
    "                    X=df_removed_outliers.drop(columns=\"SalePrice\"),\n",
    "                   y = df_removed_outliers[\"SalePrice\"]).plot_lc()"
   ]
  },
  {
   "cell_type": "code",
   "execution_count": null,
   "id": "eb99488a-2885-4285-a526-a25d7ba39db7",
   "metadata": {},
   "outputs": [],
   "source": [
    "fig.show()"
   ]
  },
  {
   "cell_type": "code",
   "execution_count": null,
   "id": "5b75afe2-ab72-4a60-bc83-f928341ce27b",
   "metadata": {},
   "outputs": [],
   "source": [
    "from Service import LearningCurvePlotter\n",
    "fig = LearningCurvePlotter(model, X, y).plot_lc()\n",
    "\n",
    "fig.show()"
   ]
  },
  {
   "cell_type": "code",
   "execution_count": null,
   "id": "5847df8e-6afa-4d83-9e84-dd0207662daa",
   "metadata": {},
   "outputs": [],
   "source": [
    "from Business import LCBuilder"
   ]
  },
  {
   "cell_type": "code",
   "execution_count": null,
   "id": "913e9ad0-20b2-400f-b6a9-add22fd5c146",
   "metadata": {},
   "outputs": [],
   "source": [
    "fig = LCBuilder().curve_bulder()\n",
    "fig.show()"
   ]
  },
  {
   "cell_type": "code",
   "execution_count": null,
   "id": "6bad1c51-2add-4b6d-b5c4-da3993c9e41e",
   "metadata": {},
   "outputs": [],
   "source": [
    "from Business import GraphBuilder\n",
    "\n",
    "fig.show()"
   ]
  },
  {
   "cell_type": "code",
   "execution_count": null,
   "id": "9ac0dca6-acb9-4819-850f-31d0a3225229",
   "metadata": {},
   "outputs": [],
   "source": [
    "from Business import GraphBuilder\n",
    "\n",
    "fig  = GraphBuilder().residual_plot()\n",
    "fig.show()"
   ]
  },
  {
   "cell_type": "code",
   "execution_count": null,
   "id": "cb9888d5-6575-41e5-b604-0a2b31b2d762",
   "metadata": {},
   "outputs": [],
   "source": [
    "from Business import GraphBuilder\n",
    "\n",
    "fig  = GraphBuilder().feature_importance()\n",
    "fig.show()"
   ]
  },
  {
   "cell_type": "code",
   "execution_count": null,
   "id": "4458645d-356a-4e4e-afeb-119d15dd3b21",
   "metadata": {},
   "outputs": [],
   "source": [
    "from Service import IDMapping\n",
    "\n",
    "test_df = IDMapping().get_test_data()\n",
    "print(type(test_df))\n",
    "print(test_df.shape)\n",
    "test_df.head()"
   ]
  },
  {
   "cell_type": "code",
   "execution_count": null,
   "id": "e6538c35-7da9-4f8e-a73b-7d240c0f3585",
   "metadata": {},
   "outputs": [],
   "source": [
    "# id mapper check\n",
    "\n",
    "from Business import MapId\n",
    "\n",
    "ids = MapId().get_id()\n",
    "ids.head()"
   ]
  },
  {
   "cell_type": "code",
   "execution_count": null,
   "id": "8f9b74c6-c4fa-431f-8443-6e8b2882b3d7",
   "metadata": {},
   "outputs": [],
   "source": []
  }
 ],
 "metadata": {
  "kernelspec": {
   "display_name": "Python 3 (ipykernel)",
   "language": "python",
   "name": "python3"
  },
  "language_info": {
   "codemirror_mode": {
    "name": "ipython",
    "version": 3
   },
   "file_extension": ".py",
   "mimetype": "text/x-python",
   "name": "python",
   "nbconvert_exporter": "python",
   "pygments_lexer": "ipython3",
   "version": "3.13.2"
  },
  "widgets": {
   "application/vnd.jupyter.widget-state+json": {
    "state": {},
    "version_major": 2,
    "version_minor": 0
   }
  }
 },
 "nbformat": 4,
 "nbformat_minor": 5
}
